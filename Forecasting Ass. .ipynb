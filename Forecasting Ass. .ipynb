{
 "cells": [
  {
   "cell_type": "markdown",
   "metadata": {
    "id": "jfLXShpX_Sq3"
   },
   "source": [
    "## Coca Cola Dataset"
   ]
  },
  {
   "cell_type": "markdown",
   "metadata": {
    "id": "j3Y5_K3AIl7k"
   },
   "source": [
    "## Import Libraries"
   ]
  },
  {
   "cell_type": "code",
   "execution_count": 1,
   "metadata": {
    "executionInfo": {
     "elapsed": 2876,
     "status": "ok",
     "timestamp": 1667890015372,
     "user": {
      "displayName": "Dhindale Shital Sitaram",
      "userId": "12253268378086785584"
     },
     "user_tz": -330
    },
    "id": "82RAvrh__WKl"
   },
   "outputs": [],
   "source": [
    "from pandas import read_csv\n",
    "from matplotlib import pyplot\n",
    "from numpy import sqrt\n",
    "import warnings\n",
    "import itertools\n",
    "import pandas as pd\n",
    "import numpy as np\n",
    "import matplotlib.pyplot as plt\n",
    "import statsmodels.api as sm"
   ]
  },
  {
   "cell_type": "code",
   "execution_count": 2,
   "metadata": {
    "colab": {
     "base_uri": "https://localhost:8080/",
     "height": 1000
    },
    "executionInfo": {
     "elapsed": 1381,
     "status": "ok",
     "timestamp": 1667890728652,
     "user": {
      "displayName": "Dhindale Shital Sitaram",
      "userId": "12253268378086785584"
     },
     "user_tz": -330
    },
    "id": "gRxU-AnG_ZJf",
    "outputId": "cb42c7ca-c873-4dd2-f8fb-ac2a82a31d3a"
   },
   "outputs": [
    {
     "ename": "FileNotFoundError",
     "evalue": "[Errno 2] No such file or directory: '/content/CocaCola_Sales_Rawdata.xlsx'",
     "output_type": "error",
     "traceback": [
      "\u001b[1;31m---------------------------------------------------------------------------\u001b[0m",
      "\u001b[1;31mFileNotFoundError\u001b[0m                         Traceback (most recent call last)",
      "\u001b[1;32m~\\AppData\\Local\\Temp\\ipykernel_7724\\1976327588.py\u001b[0m in \u001b[0;36m<module>\u001b[1;34m\u001b[0m\n\u001b[1;32m----> 1\u001b[1;33m \u001b[0mseries\u001b[0m \u001b[1;33m=\u001b[0m \u001b[0mpd\u001b[0m\u001b[1;33m.\u001b[0m\u001b[0mread_excel\u001b[0m\u001b[1;33m(\u001b[0m\u001b[1;34m'/content/CocaCola_Sales_Rawdata.xlsx'\u001b[0m\u001b[1;33m,\u001b[0m\u001b[0mheader\u001b[0m\u001b[1;33m=\u001b[0m\u001b[1;36m0\u001b[0m\u001b[1;33m,\u001b[0m \u001b[0mindex_col\u001b[0m\u001b[1;33m=\u001b[0m\u001b[1;36m0\u001b[0m\u001b[1;33m,\u001b[0m \u001b[0mparse_dates\u001b[0m\u001b[1;33m=\u001b[0m\u001b[1;32mTrue\u001b[0m\u001b[1;33m)\u001b[0m\u001b[1;33m\u001b[0m\u001b[1;33m\u001b[0m\u001b[0m\n\u001b[0m\u001b[0;32m      2\u001b[0m \u001b[0mseries\u001b[0m\u001b[1;33m\u001b[0m\u001b[1;33m\u001b[0m\u001b[0m\n",
      "\u001b[1;32m~\\anaconda3\\lib\\site-packages\\pandas\\util\\_decorators.py\u001b[0m in \u001b[0;36mwrapper\u001b[1;34m(*args, **kwargs)\u001b[0m\n\u001b[0;32m    309\u001b[0m                     \u001b[0mstacklevel\u001b[0m\u001b[1;33m=\u001b[0m\u001b[0mstacklevel\u001b[0m\u001b[1;33m,\u001b[0m\u001b[1;33m\u001b[0m\u001b[1;33m\u001b[0m\u001b[0m\n\u001b[0;32m    310\u001b[0m                 )\n\u001b[1;32m--> 311\u001b[1;33m             \u001b[1;32mreturn\u001b[0m \u001b[0mfunc\u001b[0m\u001b[1;33m(\u001b[0m\u001b[1;33m*\u001b[0m\u001b[0margs\u001b[0m\u001b[1;33m,\u001b[0m \u001b[1;33m**\u001b[0m\u001b[0mkwargs\u001b[0m\u001b[1;33m)\u001b[0m\u001b[1;33m\u001b[0m\u001b[1;33m\u001b[0m\u001b[0m\n\u001b[0m\u001b[0;32m    312\u001b[0m \u001b[1;33m\u001b[0m\u001b[0m\n\u001b[0;32m    313\u001b[0m         \u001b[1;32mreturn\u001b[0m \u001b[0mwrapper\u001b[0m\u001b[1;33m\u001b[0m\u001b[1;33m\u001b[0m\u001b[0m\n",
      "\u001b[1;32m~\\anaconda3\\lib\\site-packages\\pandas\\io\\excel\\_base.py\u001b[0m in \u001b[0;36mread_excel\u001b[1;34m(io, sheet_name, header, names, index_col, usecols, squeeze, dtype, engine, converters, true_values, false_values, skiprows, nrows, na_values, keep_default_na, na_filter, verbose, parse_dates, date_parser, thousands, decimal, comment, skipfooter, convert_float, mangle_dupe_cols, storage_options)\u001b[0m\n\u001b[0;32m    455\u001b[0m     \u001b[1;32mif\u001b[0m \u001b[1;32mnot\u001b[0m \u001b[0misinstance\u001b[0m\u001b[1;33m(\u001b[0m\u001b[0mio\u001b[0m\u001b[1;33m,\u001b[0m \u001b[0mExcelFile\u001b[0m\u001b[1;33m)\u001b[0m\u001b[1;33m:\u001b[0m\u001b[1;33m\u001b[0m\u001b[1;33m\u001b[0m\u001b[0m\n\u001b[0;32m    456\u001b[0m         \u001b[0mshould_close\u001b[0m \u001b[1;33m=\u001b[0m \u001b[1;32mTrue\u001b[0m\u001b[1;33m\u001b[0m\u001b[1;33m\u001b[0m\u001b[0m\n\u001b[1;32m--> 457\u001b[1;33m         \u001b[0mio\u001b[0m \u001b[1;33m=\u001b[0m \u001b[0mExcelFile\u001b[0m\u001b[1;33m(\u001b[0m\u001b[0mio\u001b[0m\u001b[1;33m,\u001b[0m \u001b[0mstorage_options\u001b[0m\u001b[1;33m=\u001b[0m\u001b[0mstorage_options\u001b[0m\u001b[1;33m,\u001b[0m \u001b[0mengine\u001b[0m\u001b[1;33m=\u001b[0m\u001b[0mengine\u001b[0m\u001b[1;33m)\u001b[0m\u001b[1;33m\u001b[0m\u001b[1;33m\u001b[0m\u001b[0m\n\u001b[0m\u001b[0;32m    458\u001b[0m     \u001b[1;32melif\u001b[0m \u001b[0mengine\u001b[0m \u001b[1;32mand\u001b[0m \u001b[0mengine\u001b[0m \u001b[1;33m!=\u001b[0m \u001b[0mio\u001b[0m\u001b[1;33m.\u001b[0m\u001b[0mengine\u001b[0m\u001b[1;33m:\u001b[0m\u001b[1;33m\u001b[0m\u001b[1;33m\u001b[0m\u001b[0m\n\u001b[0;32m    459\u001b[0m         raise ValueError(\n",
      "\u001b[1;32m~\\anaconda3\\lib\\site-packages\\pandas\\io\\excel\\_base.py\u001b[0m in \u001b[0;36m__init__\u001b[1;34m(self, path_or_buffer, engine, storage_options)\u001b[0m\n\u001b[0;32m   1374\u001b[0m                 \u001b[0mext\u001b[0m \u001b[1;33m=\u001b[0m \u001b[1;34m\"xls\"\u001b[0m\u001b[1;33m\u001b[0m\u001b[1;33m\u001b[0m\u001b[0m\n\u001b[0;32m   1375\u001b[0m             \u001b[1;32melse\u001b[0m\u001b[1;33m:\u001b[0m\u001b[1;33m\u001b[0m\u001b[1;33m\u001b[0m\u001b[0m\n\u001b[1;32m-> 1376\u001b[1;33m                 ext = inspect_excel_format(\n\u001b[0m\u001b[0;32m   1377\u001b[0m                     \u001b[0mcontent_or_path\u001b[0m\u001b[1;33m=\u001b[0m\u001b[0mpath_or_buffer\u001b[0m\u001b[1;33m,\u001b[0m \u001b[0mstorage_options\u001b[0m\u001b[1;33m=\u001b[0m\u001b[0mstorage_options\u001b[0m\u001b[1;33m\u001b[0m\u001b[1;33m\u001b[0m\u001b[0m\n\u001b[0;32m   1378\u001b[0m                 )\n",
      "\u001b[1;32m~\\anaconda3\\lib\\site-packages\\pandas\\io\\excel\\_base.py\u001b[0m in \u001b[0;36minspect_excel_format\u001b[1;34m(content_or_path, storage_options)\u001b[0m\n\u001b[0;32m   1248\u001b[0m         \u001b[0mcontent_or_path\u001b[0m \u001b[1;33m=\u001b[0m \u001b[0mBytesIO\u001b[0m\u001b[1;33m(\u001b[0m\u001b[0mcontent_or_path\u001b[0m\u001b[1;33m)\u001b[0m\u001b[1;33m\u001b[0m\u001b[1;33m\u001b[0m\u001b[0m\n\u001b[0;32m   1249\u001b[0m \u001b[1;33m\u001b[0m\u001b[0m\n\u001b[1;32m-> 1250\u001b[1;33m     with get_handle(\n\u001b[0m\u001b[0;32m   1251\u001b[0m         \u001b[0mcontent_or_path\u001b[0m\u001b[1;33m,\u001b[0m \u001b[1;34m\"rb\"\u001b[0m\u001b[1;33m,\u001b[0m \u001b[0mstorage_options\u001b[0m\u001b[1;33m=\u001b[0m\u001b[0mstorage_options\u001b[0m\u001b[1;33m,\u001b[0m \u001b[0mis_text\u001b[0m\u001b[1;33m=\u001b[0m\u001b[1;32mFalse\u001b[0m\u001b[1;33m\u001b[0m\u001b[1;33m\u001b[0m\u001b[0m\n\u001b[0;32m   1252\u001b[0m     ) as handle:\n",
      "\u001b[1;32m~\\anaconda3\\lib\\site-packages\\pandas\\io\\common.py\u001b[0m in \u001b[0;36mget_handle\u001b[1;34m(path_or_buf, mode, encoding, compression, memory_map, is_text, errors, storage_options)\u001b[0m\n\u001b[0;32m    793\u001b[0m         \u001b[1;32melse\u001b[0m\u001b[1;33m:\u001b[0m\u001b[1;33m\u001b[0m\u001b[1;33m\u001b[0m\u001b[0m\n\u001b[0;32m    794\u001b[0m             \u001b[1;31m# Binary mode\u001b[0m\u001b[1;33m\u001b[0m\u001b[1;33m\u001b[0m\u001b[0m\n\u001b[1;32m--> 795\u001b[1;33m             \u001b[0mhandle\u001b[0m \u001b[1;33m=\u001b[0m \u001b[0mopen\u001b[0m\u001b[1;33m(\u001b[0m\u001b[0mhandle\u001b[0m\u001b[1;33m,\u001b[0m \u001b[0mioargs\u001b[0m\u001b[1;33m.\u001b[0m\u001b[0mmode\u001b[0m\u001b[1;33m)\u001b[0m\u001b[1;33m\u001b[0m\u001b[1;33m\u001b[0m\u001b[0m\n\u001b[0m\u001b[0;32m    796\u001b[0m         \u001b[0mhandles\u001b[0m\u001b[1;33m.\u001b[0m\u001b[0mappend\u001b[0m\u001b[1;33m(\u001b[0m\u001b[0mhandle\u001b[0m\u001b[1;33m)\u001b[0m\u001b[1;33m\u001b[0m\u001b[1;33m\u001b[0m\u001b[0m\n\u001b[0;32m    797\u001b[0m \u001b[1;33m\u001b[0m\u001b[0m\n",
      "\u001b[1;31mFileNotFoundError\u001b[0m: [Errno 2] No such file or directory: '/content/CocaCola_Sales_Rawdata.xlsx'"
     ]
    }
   ],
   "source": [
    "series = pd.read_excel('/content/CocaCola_Sales_Rawdata.xlsx',header=0, index_col=0, parse_dates=True)\n",
    "series"
   ]
  },
  {
   "cell_type": "code",
   "execution_count": null,
   "metadata": {
    "colab": {
     "base_uri": "https://localhost:8080/"
    },
    "executionInfo": {
     "elapsed": 29,
     "status": "ok",
     "timestamp": 1667890748098,
     "user": {
      "displayName": "Dhindale Shital Sitaram",
      "userId": "12253268378086785584"
     },
     "user_tz": -330
    },
    "id": "emhjjdxzCQRp",
    "outputId": "0dfefc4e-fea6-4c72-9e87-b063aeb6ca2c"
   },
   "outputs": [],
   "source": [
    "series.shape"
   ]
  },
  {
   "cell_type": "code",
   "execution_count": null,
   "metadata": {
    "colab": {
     "base_uri": "https://localhost:8080/",
     "height": 280
    },
    "executionInfo": {
     "elapsed": 15,
     "status": "ok",
     "timestamp": 1667890756473,
     "user": {
      "displayName": "Dhindale Shital Sitaram",
      "userId": "12253268378086785584"
     },
     "user_tz": -330
    },
    "id": "4yJ7JVOBCRRF",
    "outputId": "917b813a-fc23-4aba-e4be-b0ecddf2e1ef"
   },
   "outputs": [],
   "source": [
    "# line plot of time series\n",
    "from pandas import read_csv\n",
    "from matplotlib import pyplot\n",
    "series.plot()\n",
    "pyplot.show()"
   ]
  },
  {
   "cell_type": "code",
   "execution_count": null,
   "metadata": {
    "colab": {
     "base_uri": "https://localhost:8080/",
     "height": 316
    },
    "executionInfo": {
     "elapsed": 17,
     "status": "ok",
     "timestamp": 1667890767866,
     "user": {
      "displayName": "Dhindale Shital Sitaram",
      "userId": "12253268378086785584"
     },
     "user_tz": -330
    },
    "id": "uKTYNaWRCTNi",
    "outputId": "bb6b2884-9206-485c-917a-3dfe1082b446"
   },
   "outputs": [],
   "source": [
    "series.hist()"
   ]
  },
  {
   "cell_type": "code",
   "execution_count": null,
   "metadata": {
    "colab": {
     "base_uri": "https://localhost:8080/",
     "height": 282
    },
    "executionInfo": {
     "elapsed": 1290,
     "status": "ok",
     "timestamp": 1667890778630,
     "user": {
      "displayName": "Dhindale Shital Sitaram",
      "userId": "12253268378086785584"
     },
     "user_tz": -330
    },
    "id": "vsN-bnUqCWHm",
    "outputId": "da1c23a3-a947-43cc-c104-773571f079fc"
   },
   "outputs": [],
   "source": [
    "series.plot(kind='kde')"
   ]
  },
  {
   "cell_type": "code",
   "execution_count": null,
   "metadata": {
    "colab": {
     "base_uri": "https://localhost:8080/"
    },
    "executionInfo": {
     "elapsed": 16,
     "status": "ok",
     "timestamp": 1667890792143,
     "user": {
      "displayName": "Dhindale Shital Sitaram",
      "userId": "12253268378086785584"
     },
     "user_tz": -330
    },
    "id": "lfoE1EXOCYgu",
    "outputId": "cd6d3a8d-ca40-4ac0-b680-59efd09a42df"
   },
   "outputs": [],
   "source": [
    "# separate out a validation dataset\n",
    "split_point = len(series) - 10\n",
    "dataset, validation = series[0:split_point], series[split_point:]\n",
    "print('Dataset %d, Validation %d' % (len(dataset), len(validation)))\n",
    "dataset.to_csv('dataset.csv', header=False)\n",
    "validation.to_csv('validation.csv', header=False)"
   ]
  },
  {
   "cell_type": "markdown",
   "metadata": {
    "id": "rNeHQZhRCfHK"
   },
   "source": [
    "### Persistence/ Base model"
   ]
  },
  {
   "cell_type": "code",
   "execution_count": null,
   "metadata": {
    "executionInfo": {
     "elapsed": 755,
     "status": "ok",
     "timestamp": 1667890824197,
     "user": {
      "displayName": "Dhindale Shital Sitaram",
      "userId": "12253268378086785584"
     },
     "user_tz": -330
    },
    "id": "9LAw6TOoCgco"
   },
   "outputs": [],
   "source": [
    "# evaluate a persistence model\n",
    "from pandas import read_csv\n",
    "from sklearn.metrics import mean_squared_error\n",
    "from math import sqrt\n",
    "# load data\n",
    "train = read_csv('dataset.csv', header=None, index_col=0, parse_dates=True, squeeze=True)\n",
    "# prepare data\n",
    "X = train.values\n",
    "X = X.astype('float32')\n",
    "train_size = int(len(X) * 0.50)\n",
    "train, test = X[0:train_size], X[train_size:]"
   ]
  },
  {
   "cell_type": "code",
   "execution_count": null,
   "metadata": {
    "colab": {
     "base_uri": "https://localhost:8080/"
    },
    "executionInfo": {
     "elapsed": 8,
     "status": "ok",
     "timestamp": 1667890836381,
     "user": {
      "displayName": "Dhindale Shital Sitaram",
      "userId": "12253268378086785584"
     },
     "user_tz": -330
    },
    "id": "dio6-MIUCjna",
    "outputId": "d5ee7554-a41a-45f1-fbc8-a8fcf6a8fd58"
   },
   "outputs": [],
   "source": [
    "# walk-forward validation\n",
    "history = [x for x in train]\n",
    "predictions = list()\n",
    "for i in range(len(test)):\n",
    "    yhat = history[-1]\n",
    "    predictions.append(yhat)\n",
    "# observation\n",
    "    obs = test[i]\n",
    "    history.append(obs)\n",
    "    print('>Predicted=%.3f, Expected=%.3f' % (yhat, obs))\n",
    "# report performance\n",
    "rmse = sqrt(mean_squared_error(test, predictions))\n",
    "print('RMSE: %.3f' % rmse)"
   ]
  },
  {
   "cell_type": "markdown",
   "metadata": {
    "id": "7ShmsKa0Cut_"
   },
   "source": [
    "#### ARIMA Hyperparameters"
   ]
  },
  {
   "cell_type": "code",
   "execution_count": null,
   "metadata": {
    "executionInfo": {
     "elapsed": 7,
     "status": "ok",
     "timestamp": 1667890969237,
     "user": {
      "displayName": "Dhindale Shital Sitaram",
      "userId": "12253268378086785584"
     },
     "user_tz": -330
    },
    "id": "8v5lj1-uC7Zh"
   },
   "outputs": [],
   "source": [
    "# grid search ARIMA parameters for a time series\n",
    "\n",
    "import warnings\n",
    "from pandas import read_csv\n",
    "from statsmodels.tsa.arima_model import ARIMA\n",
    "from sklearn.metrics import mean_squared_error\n",
    "from math import sqrt\n",
    "\n",
    "\n",
    "# evaluate an ARIMA model for a given order (p,d,q) and return RMSE\n",
    "def evaluate_arima_model(X, arima_order):\n",
    "# prepare training dataset\n",
    "    X = X.astype('float32')\n",
    "    train_size = int(len(X) * 0.50)\n",
    "    train, test = X[0:train_size], X[train_size:]\n",
    "    history = [x for x in train]\n",
    "# make predictions\n",
    "    predictions = list()\n",
    "    for t in range(len(test)):\n",
    "        model = ARIMA(history, order=arima_order)\n",
    "# model_fit = model.fit(disp=0)\n",
    "        model_fit = model.fit(disp=0)\n",
    "        yhat = model_fit.forecast()[0]\n",
    "        predictions.append(yhat)\n",
    "        history.append(test[t])\n",
    "# calculate out of sample error\n",
    "    rmse = sqrt(mean_squared_error(test, predictions))\n",
    "    return rmse"
   ]
  },
  {
   "cell_type": "markdown",
   "metadata": {
    "id": "fozUvjbIDS_v"
   },
   "source": [
    "## Grid search for p,d,q values"
   ]
  },
  {
   "cell_type": "code",
   "execution_count": null,
   "metadata": {
    "executionInfo": {
     "elapsed": 5,
     "status": "ok",
     "timestamp": 1667891039447,
     "user": {
      "displayName": "Dhindale Shital Sitaram",
      "userId": "12253268378086785584"
     },
     "user_tz": -330
    },
    "id": "x28aec9RDHHC"
   },
   "outputs": [],
   "source": [
    "# evaluate combinations of p, d and q values for an ARIMA model\n",
    "def evaluate_models(dataset, p_values, d_values, q_values):\n",
    "    dataset = dataset.astype('float32')\n",
    "    best_score, best_cfg = float('inf'), None\n",
    "    for p in p_values:\n",
    "        for d in d_values:\n",
    "            for q in q_values:\n",
    "                order = (p,d,q)\n",
    "                try:\n",
    "                    rmse = evaluate_arima_model(train, order)\n",
    "                    if rmse < best_score:\n",
    "                        best_score, best_cfg = rmse, order\n",
    "                    print('ARIMA%s RMSE=%.3f' % (order,rmse))\n",
    "                except:\n",
    "                    continue\n",
    "    print('Best ARIMA%s RMSE=%.3f' % (best_cfg, best_score))"
   ]
  },
  {
   "cell_type": "code",
   "execution_count": null,
   "metadata": {
    "colab": {
     "base_uri": "https://localhost:8080/"
    },
    "executionInfo": {
     "elapsed": 51357,
     "status": "ok",
     "timestamp": 1667891104431,
     "user": {
      "displayName": "Dhindale Shital Sitaram",
      "userId": "12253268378086785584"
     },
     "user_tz": -330
    },
    "id": "QXnNZ3xuDYaa",
    "outputId": "cbf28340-0ddc-4dda-8bc9-1c28f4f482f1"
   },
   "outputs": [],
   "source": [
    "# load dataset\n",
    "train = read_csv('dataset.csv', header=None, index_col=0, parse_dates=True, squeeze=True)\n",
    "# evaluate parameters\n",
    "p_values = range(0, 5)\n",
    "d_values = range(0, 5)\n",
    "q_values = range(0, 5)\n",
    "warnings.filterwarnings(\"ignore\")\n",
    "evaluate_models(train.values, p_values, d_values, q_values)"
   ]
  },
  {
   "cell_type": "markdown",
   "metadata": {
    "id": "ph1Sn2CJDglk"
   },
   "source": [
    "## Build Model based on the optimized values"
   ]
  },
  {
   "cell_type": "code",
   "execution_count": null,
   "metadata": {
    "executionInfo": {
     "elapsed": 11,
     "status": "ok",
     "timestamp": 1667891107885,
     "user": {
      "displayName": "Dhindale Shital Sitaram",
      "userId": "12253268378086785584"
     },
     "user_tz": -330
    },
    "id": "IH3s9J4RDmfo"
   },
   "outputs": [],
   "source": [
    "# save finalized model to file\n",
    "from pandas import read_csv\n",
    "from statsmodels.tsa.arima_model import ARIMA\n",
    "import numpy"
   ]
  },
  {
   "cell_type": "code",
   "execution_count": null,
   "metadata": {
    "executionInfo": {
     "elapsed": 14,
     "status": "ok",
     "timestamp": 1667891117077,
     "user": {
      "displayName": "Dhindale Shital Sitaram",
      "userId": "12253268378086785584"
     },
     "user_tz": -330
    },
    "id": "tApsFtfIDo-A"
   },
   "outputs": [],
   "source": [
    "# load data\n",
    "train = read_csv('dataset.csv', header=0, index_col=0, parse_dates=True)\n",
    "# prepare data\n",
    "X = train.values\n",
    "X = X.astype('float32')"
   ]
  },
  {
   "cell_type": "code",
   "execution_count": null,
   "metadata": {
    "colab": {
     "base_uri": "https://localhost:8080/"
    },
    "executionInfo": {
     "elapsed": 26,
     "status": "ok",
     "timestamp": 1667891140688,
     "user": {
      "displayName": "Dhindale Shital Sitaram",
      "userId": "12253268378086785584"
     },
     "user_tz": -330
    },
    "id": "o_r3JSm3Dtyh",
    "outputId": "689e4f8e-0a2f-4048-ebe6-1b572de9c223"
   },
   "outputs": [],
   "source": [
    "#Error on the test data\n",
    "val=pd.read_csv('validation.csv',header=None)\n",
    "rmse = sqrt(mean_squared_error(val[1], forecast))\n",
    "rmse"
   ]
  },
  {
   "cell_type": "markdown",
   "metadata": {
    "id": "YDRLD-0zET5S"
   },
   "source": [
    "Combine train and test data and build final model"
   ]
  },
  {
   "cell_type": "code",
   "execution_count": null,
   "metadata": {
    "executionInfo": {
     "elapsed": 1347,
     "status": "ok",
     "timestamp": 1667891391036,
     "user": {
      "displayName": "Dhindale Shital Sitaram",
      "userId": "12253268378086785584"
     },
     "user_tz": -330
    },
    "id": "b3xfuyU0EVW1"
   },
   "outputs": [],
   "source": [
    "#fit model\n",
    "data = pd.read_excel('/content/CocaCola_Sales_Rawdata.xlsx', header=0, index_col=0, parse_dates=True)\n",
    "# prepare data\n",
    "X = train.values\n",
    "X = X.astype('float32')"
   ]
  },
  {
   "cell_type": "code",
   "execution_count": null,
   "metadata": {
    "executionInfo": {
     "elapsed": 14,
     "status": "ok",
     "timestamp": 1667891405195,
     "user": {
      "displayName": "Dhindale Shital Sitaram",
      "userId": "12253268378086785584"
     },
     "user_tz": -330
    },
    "id": "vrq-6DP4Ee0M"
   },
   "outputs": [],
   "source": [
    "model = ARIMA(X, order=(3,2,0))\n",
    "model_fit = model.fit()\n"
   ]
  },
  {
   "cell_type": "code",
   "execution_count": null,
   "metadata": {
    "executionInfo": {
     "elapsed": 4,
     "status": "ok",
     "timestamp": 1667891650001,
     "user": {
      "displayName": "Dhindale Shital Sitaram",
      "userId": "12253268378086785584"
     },
     "user_tz": -330
    },
    "id": "aPWKxJrwExgg"
   },
   "outputs": [],
   "source": [
    "forecast=model_fit.forecast(steps=10)[0]\n"
   ]
  },
  {
   "cell_type": "code",
   "execution_count": null,
   "metadata": {
    "colab": {
     "base_uri": "https://localhost:8080/"
    },
    "executionInfo": {
     "elapsed": 1454,
     "status": "ok",
     "timestamp": 1667891877559,
     "user": {
      "displayName": "Dhindale Shital Sitaram",
      "userId": "12253268378086785584"
     },
     "user_tz": -330
    },
    "id": "Ywcwn1wLGjcm",
    "outputId": "d02df96c-ce01-41fa-9d25-7331fc40f961"
   },
   "outputs": [],
   "source": [
    "forecast"
   ]
  },
  {
   "cell_type": "markdown",
   "metadata": {
    "id": "pZumPvo_GtCG"
   },
   "source": [
    "## Data Driven Models"
   ]
  },
  {
   "cell_type": "code",
   "execution_count": null,
   "metadata": {
    "executionInfo": {
     "elapsed": 847,
     "status": "ok",
     "timestamp": 1667891929373,
     "user": {
      "displayName": "Dhindale Shital Sitaram",
      "userId": "12253268378086785584"
     },
     "user_tz": -330
    },
    "id": "bfeiP_0jGkd4"
   },
   "outputs": [],
   "source": [
    "import pandas as pd\n",
    "import numpy as np\n",
    "import matplotlib.pyplot as plt\n",
    "import seaborn as sns\n",
    "from statsmodels.tsa.seasonal import seasonal_decompose\n",
    "from statsmodels.tsa.holtwinters import SimpleExpSmoothing # SES\n",
    "from statsmodels.tsa.holtwinters import Holt # Holts Exponential Smoothing\n",
    "from statsmodels.tsa.holtwinters import ExponentialSmoothing "
   ]
  },
  {
   "cell_type": "code",
   "execution_count": null,
   "metadata": {
    "colab": {
     "base_uri": "https://localhost:8080/",
     "height": 282
    },
    "executionInfo": {
     "elapsed": 676,
     "status": "ok",
     "timestamp": 1667891970336,
     "user": {
      "displayName": "Dhindale Shital Sitaram",
      "userId": "12253268378086785584"
     },
     "user_tz": -330
    },
    "id": "RCg1c3SXGxcD",
    "outputId": "0ce22984-d2dc-4301-863f-05376ad49833"
   },
   "outputs": [],
   "source": [
    "Walmart = pd.read_excel('/content/CocaCola_Sales_Rawdata.xlsx')\n",
    "Walmart.Sales.plot()"
   ]
  },
  {
   "cell_type": "markdown",
   "metadata": {
    "id": "zA5OU8hXHAWX"
   },
   "source": [
    "## Splitting data"
   ]
  },
  {
   "cell_type": "code",
   "execution_count": null,
   "metadata": {
    "executionInfo": {
     "elapsed": 19,
     "status": "ok",
     "timestamp": 1667892004532,
     "user": {
      "displayName": "Dhindale Shital Sitaram",
      "userId": "12253268378086785584"
     },
     "user_tz": -330
    },
    "id": "_Hoby_XIHBnS"
   },
   "outputs": [],
   "source": [
    "Train = Walmart.head(32)\n",
    "Test = Walmart.tail(10)"
   ]
  },
  {
   "cell_type": "markdown",
   "metadata": {
    "id": "jnHpFnvrHF2a"
   },
   "source": [
    "## Moving Average"
   ]
  },
  {
   "cell_type": "code",
   "execution_count": null,
   "metadata": {
    "colab": {
     "base_uri": "https://localhost:8080/",
     "height": 253
    },
    "executionInfo": {
     "elapsed": 1360,
     "status": "ok",
     "timestamp": 1667892031466,
     "user": {
      "displayName": "Dhindale Shital Sitaram",
      "userId": "12253268378086785584"
     },
     "user_tz": -330
    },
    "id": "wreMaF7EHHcU",
    "outputId": "fb4ab0c2-2b93-4b6a-a06a-2f7735f86fd1"
   },
   "outputs": [],
   "source": [
    "plt.figure(figsize=(12,4))\n",
    "Walmart.Sales.plot(label=\"org\")\n",
    "for i in range(2,24,6):\n",
    "    Walmart[\"Sales\"].rolling(i).mean().plot(label=str(i))\n",
    "plt.legend(loc='best')"
   ]
  },
  {
   "cell_type": "markdown",
   "metadata": {
    "id": "pzSd3-N7HOm1"
   },
   "source": [
    "Time series decomposition plot"
   ]
  },
  {
   "cell_type": "code",
   "execution_count": null,
   "metadata": {
    "colab": {
     "base_uri": "https://localhost:8080/",
     "height": 297
    },
    "executionInfo": {
     "elapsed": 1809,
     "status": "ok",
     "timestamp": 1667892065148,
     "user": {
      "displayName": "Dhindale Shital Sitaram",
      "userId": "12253268378086785584"
     },
     "user_tz": -330
    },
    "id": "OAjE5orIHPeD",
    "outputId": "b479e3a2-fb60-4a87-c32f-f73a916cbccb"
   },
   "outputs": [],
   "source": [
    "decompose_ts_add = seasonal_decompose(Walmart.Sales,period=12)\n",
    "decompose_ts_add.plot()\n",
    "plt.show()"
   ]
  },
  {
   "cell_type": "markdown",
   "metadata": {
    "id": "yplaBgIiHXRG"
   },
   "source": [
    "## ACF plots and PACF plots"
   ]
  },
  {
   "cell_type": "code",
   "execution_count": null,
   "metadata": {
    "colab": {
     "base_uri": "https://localhost:8080/",
     "height": 545
    },
    "executionInfo": {
     "elapsed": 1327,
     "status": "ok",
     "timestamp": 1667892100043,
     "user": {
      "displayName": "Dhindale Shital Sitaram",
      "userId": "12253268378086785584"
     },
     "user_tz": -330
    },
    "id": "TkkNShm8HYcg",
    "outputId": "d029cae8-ae4d-4ce9-8b17-b3a547d1c4c4"
   },
   "outputs": [],
   "source": [
    "import statsmodels.graphics.tsaplots as tsa_plots\n",
    "tsa_plots.plot_acf(Walmart.Sales,lags=12)\n",
    "tsa_plots.plot_pacf(Walmart.Sales,lags=12)\n",
    "plt.show()"
   ]
  },
  {
   "cell_type": "markdown",
   "metadata": {
    "id": "5WqxTyjsHeiL"
   },
   "source": [
    "## Evaluation Metric RMSE"
   ]
  },
  {
   "cell_type": "code",
   "execution_count": null,
   "metadata": {
    "executionInfo": {
     "elapsed": 620,
     "status": "ok",
     "timestamp": 1667892130276,
     "user": {
      "displayName": "Dhindale Shital Sitaram",
      "userId": "12253268378086785584"
     },
     "user_tz": -330
    },
    "id": "X0uiB8KtHgCT"
   },
   "outputs": [],
   "source": [
    "def RMSE(pred,org):\n",
    "    sale=np.mean((pred-org)**2)\n",
    "    return np.sqrt(sale)\n"
   ]
  },
  {
   "cell_type": "markdown",
   "metadata": {
    "id": "SPWskdLCHlr2"
   },
   "source": [
    "## Simple Exponential Method"
   ]
  },
  {
   "cell_type": "code",
   "execution_count": null,
   "metadata": {
    "colab": {
     "base_uri": "https://localhost:8080/"
    },
    "executionInfo": {
     "elapsed": 11,
     "status": "ok",
     "timestamp": 1667892162317,
     "user": {
      "displayName": "Dhindale Shital Sitaram",
      "userId": "12253268378086785584"
     },
     "user_tz": -330
    },
    "id": "RORzamyoHitx",
    "outputId": "d539dac7-ed94-4117-8cca-c36f37d50961"
   },
   "outputs": [],
   "source": [
    "ses_model = SimpleExpSmoothing(Train[\"Sales\"]).fit(smoothing_level=0.2)\n",
    "pred_ses = ses_model.predict(start = Test.index[0],end = Test.index[-1])\n",
    "RMSE(pred_ses,Test.Sales)"
   ]
  },
  {
   "cell_type": "markdown",
   "metadata": {
    "id": "4ieFfwi_HsqT"
   },
   "source": [
    "## Holt method"
   ]
  },
  {
   "cell_type": "code",
   "execution_count": null,
   "metadata": {
    "colab": {
     "base_uri": "https://localhost:8080/"
    },
    "executionInfo": {
     "elapsed": 7,
     "status": "ok",
     "timestamp": 1667892186304,
     "user": {
      "displayName": "Dhindale Shital Sitaram",
      "userId": "12253268378086785584"
     },
     "user_tz": -330
    },
    "id": "_uDROyjGHtoI",
    "outputId": "ab175fd5-1746-4450-df55-9c520937cc1a"
   },
   "outputs": [],
   "source": [
    "hw_model = Holt(Train[\"Sales\"]).fit(smoothing_level=0.2, smoothing_slope=0.8)\n",
    "pred_hw = hw_model.predict(start = Test.index[0],end = Test.index[-1])\n",
    "RMSE(pred_hw,Test.Sales)"
   ]
  },
  {
   "cell_type": "markdown",
   "metadata": {
    "id": "oNWg-FgRH8ev"
   },
   "source": [
    "## Holts winter exponential smoothing with additive seasonality and additive trend"
   ]
  },
  {
   "cell_type": "code",
   "execution_count": null,
   "metadata": {
    "colab": {
     "base_uri": "https://localhost:8080/"
    },
    "executionInfo": {
     "elapsed": 812,
     "status": "ok",
     "timestamp": 1667892256422,
     "user": {
      "displayName": "Dhindale Shital Sitaram",
      "userId": "12253268378086785584"
     },
     "user_tz": -330
    },
    "id": "NW_-lPrEH-XR",
    "outputId": "20ec39a8-6574-4821-8e70-756057444eec"
   },
   "outputs": [],
   "source": [
    "hwe_model_add_add = ExponentialSmoothing(Train[\"Sales\"],seasonal=\"add\",trend=\"add\",seasonal_periods=12).fit() #add the trend to the model\n",
    "pred_hwe_add_add = hwe_model_add_add.predict(start = Test.index[0],end = Test.index[-1])\n",
    "RMSE(pred_hwe_add_add,Test.Sales) "
   ]
  },
  {
   "cell_type": "markdown",
   "metadata": {
    "id": "USnP3gyPIEnn"
   },
   "source": [
    "## Holts winter exponential smoothing with multiplicative seasonality and additive trend"
   ]
  },
  {
   "cell_type": "code",
   "execution_count": null,
   "metadata": {
    "colab": {
     "base_uri": "https://localhost:8080/"
    },
    "executionInfo": {
     "elapsed": 27,
     "status": "ok",
     "timestamp": 1667892287924,
     "user": {
      "displayName": "Dhindale Shital Sitaram",
      "userId": "12253268378086785584"
     },
     "user_tz": -330
    },
    "id": "78sfzA81IF0u",
    "outputId": "dd41042c-a645-490a-9fd0-4b6fac4e015c"
   },
   "outputs": [],
   "source": [
    "hwe_model_mul_add = ExponentialSmoothing(Train[\"Sales\"],seasonal=\"mul\",trend=\"add\",seasonal_periods=12).fit() \n",
    "pred_hwe_mul_add = hwe_model_mul_add.predict(start = Test.index[0],end = Test.index[-1])\n",
    "RMSE(pred_hwe_mul_add,Test.Sales)"
   ]
  },
  {
   "cell_type": "markdown",
   "metadata": {
    "id": "4HaESD7RINK1"
   },
   "source": [
    "## \n",
    "Final Model by combining train and test"
   ]
  },
  {
   "cell_type": "code",
   "execution_count": null,
   "metadata": {
    "executionInfo": {
     "elapsed": 20,
     "status": "ok",
     "timestamp": 1667892321569,
     "user": {
      "displayName": "Dhindale Shital Sitaram",
      "userId": "12253268378086785584"
     },
     "user_tz": -330
    },
    "id": "e92SKuSuIOwJ"
   },
   "outputs": [],
   "source": [
    "hwe_model_add_add = ExponentialSmoothing(Walmart[\"Sales\"],seasonal=\"add\",trend=\"add\",seasonal_periods=12).fit()\n"
   ]
  },
  {
   "cell_type": "code",
   "execution_count": null,
   "metadata": {
    "colab": {
     "base_uri": "https://localhost:8080/"
    },
    "executionInfo": {
     "elapsed": 34,
     "status": "ok",
     "timestamp": 1667892340017,
     "user": {
      "displayName": "Dhindale Shital Sitaram",
      "userId": "12253268378086785584"
     },
     "user_tz": -330
    },
    "id": "EvGey0G_IReH",
    "outputId": "26405779-372c-4da5-ed66-42560e049721"
   },
   "outputs": [],
   "source": [
    "#Forecasting for next 10 time periods\n",
    "hwe_model_add_add.forecast(10)"
   ]
  },
  {
   "cell_type": "markdown",
   "metadata": {
    "id": "NlF8iuDIJA-9"
   },
   "source": [
    "## Airlines Data"
   ]
  },
  {
   "cell_type": "code",
   "execution_count": null,
   "metadata": {
    "executionInfo": {
     "elapsed": 617,
     "status": "ok",
     "timestamp": 1667892693256,
     "user": {
      "displayName": "Dhindale Shital Sitaram",
      "userId": "12253268378086785584"
     },
     "user_tz": -330
    },
    "id": "7be2n0coIVD1"
   },
   "outputs": [],
   "source": [
    "##importing the required libraries for Analysis\n",
    "\n",
    "import pandas as pd\n",
    "import numpy as np\n",
    "from numpy import sqrt\n",
    "\n",
    "from pandas import Grouper\n",
    "from pandas import DataFrame\n",
    "\n",
    "import matplotlib.pyplot as plt\n",
    "import seaborn as sns\n",
    "\n",
    "from sklearn.metrics import mean_squared_error\n",
    "from pandas.plotting import lag_plot\n",
    "from statsmodels.graphics.tsaplots import plot_acf\n",
    "\n",
    "from statsmodels.tsa.seasonal import seasonal_decompose\n",
    "## with the help of this we will be able to creat graphs for the dfferent components of time series data \n",
    "#like trends, level, sesional components and residual data\n",
    "\n",
    "from statsmodels.tsa.holtwinters import SimpleExpSmoothing # SES\n",
    "from statsmodels.tsa.holtwinters import Holt # Holts Exponential Smoothing\n",
    "from statsmodels.tsa.holtwinters import ExponentialSmoothing"
   ]
  },
  {
   "cell_type": "code",
   "execution_count": null,
   "metadata": {
    "executionInfo": {
     "elapsed": 1621,
     "status": "ok",
     "timestamp": 1667892736793,
     "user": {
      "displayName": "Dhindale Shital Sitaram",
      "userId": "12253268378086785584"
     },
     "user_tz": -330
    },
    "id": "4ZvCiztQJr6e"
   },
   "outputs": [],
   "source": [
    "##Loading the dataset\n",
    "df = pd.read_excel('/content/Airlines+Data.xlsx',header=0,parse_dates=True)"
   ]
  },
  {
   "cell_type": "code",
   "execution_count": null,
   "metadata": {
    "colab": {
     "base_uri": "https://localhost:8080/",
     "height": 424
    },
    "executionInfo": {
     "elapsed": 34,
     "status": "ok",
     "timestamp": 1667892744484,
     "user": {
      "displayName": "Dhindale Shital Sitaram",
      "userId": "12253268378086785584"
     },
     "user_tz": -330
    },
    "id": "O0rSNT-QJ2i5",
    "outputId": "c0376661-5c41-4bb8-ead9-1fd82fdcd362"
   },
   "outputs": [],
   "source": [
    "df"
   ]
  },
  {
   "cell_type": "markdown",
   "metadata": {
    "id": "MW0e8y80J6_-"
   },
   "source": [
    "## EDA"
   ]
  },
  {
   "cell_type": "code",
   "execution_count": null,
   "metadata": {
    "colab": {
     "base_uri": "https://localhost:8080/"
    },
    "executionInfo": {
     "elapsed": 10,
     "status": "ok",
     "timestamp": 1667892780148,
     "user": {
      "displayName": "Dhindale Shital Sitaram",
      "userId": "12253268378086785584"
     },
     "user_tz": -330
    },
    "id": "avUpAgs9J9n0",
    "outputId": "fdd4099f-7a72-4b6b-8f2e-bb8449be11dc"
   },
   "outputs": [],
   "source": [
    "df.info()"
   ]
  },
  {
   "cell_type": "code",
   "execution_count": null,
   "metadata": {
    "colab": {
     "base_uri": "https://localhost:8080/",
     "height": 300
    },
    "executionInfo": {
     "elapsed": 25,
     "status": "ok",
     "timestamp": 1667892798441,
     "user": {
      "displayName": "Dhindale Shital Sitaram",
      "userId": "12253268378086785584"
     },
     "user_tz": -330
    },
    "id": "vAmPHiPrKA5z",
    "outputId": "853b61ef-ad93-4594-ffae-9c20829121cb"
   },
   "outputs": [],
   "source": [
    "df.describe()"
   ]
  },
  {
   "cell_type": "code",
   "execution_count": null,
   "metadata": {
    "executionInfo": {
     "elapsed": 4,
     "status": "ok",
     "timestamp": 1667892808761,
     "user": {
      "displayName": "Dhindale Shital Sitaram",
      "userId": "12253268378086785584"
     },
     "user_tz": -330
    },
    "id": "0t9txaoNKFlC"
   },
   "outputs": [],
   "source": [
    "df.set_index('Month',inplace=True)\n",
    "## making the month column as index"
   ]
  },
  {
   "cell_type": "code",
   "execution_count": null,
   "metadata": {
    "colab": {
     "base_uri": "https://localhost:8080/",
     "height": 455
    },
    "executionInfo": {
     "elapsed": 21,
     "status": "ok",
     "timestamp": 1667892813509,
     "user": {
      "displayName": "Dhindale Shital Sitaram",
      "userId": "12253268378086785584"
     },
     "user_tz": -330
    },
    "id": "5XFy1bHCKISp",
    "outputId": "0c180ebe-41b9-4baa-892b-8942791eb136"
   },
   "outputs": [],
   "source": [
    "df"
   ]
  },
  {
   "cell_type": "code",
   "execution_count": null,
   "metadata": {
    "colab": {
     "base_uri": "https://localhost:8080/"
    },
    "executionInfo": {
     "elapsed": 5,
     "status": "ok",
     "timestamp": 1667892824727,
     "user": {
      "displayName": "Dhindale Shital Sitaram",
      "userId": "12253268378086785584"
     },
     "user_tz": -330
    },
    "id": "oVyIjBWsKJMw",
    "outputId": "1a96d080-3810-4aaa-b0c9-d9bf3588d7ed"
   },
   "outputs": [],
   "source": [
    "df.index.year"
   ]
  },
  {
   "cell_type": "code",
   "execution_count": null,
   "metadata": {
    "colab": {
     "base_uri": "https://localhost:8080/"
    },
    "executionInfo": {
     "elapsed": 1273,
     "status": "ok",
     "timestamp": 1667892855309,
     "user": {
      "displayName": "Dhindale Shital Sitaram",
      "userId": "12253268378086785584"
     },
     "user_tz": -330
    },
    "id": "kYYJEvkqKMPr",
    "outputId": "d48b5ae4-7088-4bbb-ae7c-56dd88031527"
   },
   "outputs": [],
   "source": [
    "df.isnull().sum().sum()\n"
   ]
  },
  {
   "cell_type": "markdown",
   "metadata": {
    "id": "VmdTo-ZkKVPC"
   },
   "source": [
    "No nan values in the dataset"
   ]
  },
  {
   "cell_type": "code",
   "execution_count": null,
   "metadata": {
    "colab": {
     "base_uri": "https://localhost:8080/"
    },
    "executionInfo": {
     "elapsed": 15,
     "status": "ok",
     "timestamp": 1667892932479,
     "user": {
      "displayName": "Dhindale Shital Sitaram",
      "userId": "12253268378086785584"
     },
     "user_tz": -330
    },
    "id": "eAS695iDKZoz",
    "outputId": "8d11923e-d111-4911-9cae-dcdb0181f102"
   },
   "outputs": [],
   "source": [
    "df[df.duplicated()].shape"
   ]
  },
  {
   "cell_type": "markdown",
   "metadata": {
    "id": "I_YmeKhhKhb2"
   },
   "source": [
    "Found the 16 duplicated rows"
   ]
  },
  {
   "cell_type": "code",
   "execution_count": null,
   "metadata": {
    "colab": {
     "base_uri": "https://localhost:8080/",
     "height": 582
    },
    "executionInfo": {
     "elapsed": 9,
     "status": "ok",
     "timestamp": 1667893049264,
     "user": {
      "displayName": "Dhindale Shital Sitaram",
      "userId": "12253268378086785584"
     },
     "user_tz": -330
    },
    "id": "PuSvoOv9K9Wk",
    "outputId": "9d13a5c9-ada6-4bda-dd2d-9408a707bc15"
   },
   "outputs": [],
   "source": [
    "df[df.duplicated()]"
   ]
  },
  {
   "cell_type": "code",
   "execution_count": null,
   "metadata": {
    "executionInfo": {
     "elapsed": 641,
     "status": "ok",
     "timestamp": 1667893095481,
     "user": {
      "displayName": "Dhindale Shital Sitaram",
      "userId": "12253268378086785584"
     },
     "user_tz": -330
    },
    "id": "DakkA99YLDCe"
   },
   "outputs": [],
   "source": [
    "df.drop_duplicates(inplace=True)\n"
   ]
  },
  {
   "cell_type": "markdown",
   "metadata": {
    "id": "WjETXXAKLIW4"
   },
   "source": [
    "## Removed the duplicated"
   ]
  },
  {
   "cell_type": "code",
   "execution_count": null,
   "metadata": {
    "colab": {
     "base_uri": "https://localhost:8080/",
     "height": 455
    },
    "executionInfo": {
     "elapsed": 28,
     "status": "ok",
     "timestamp": 1667893101264,
     "user": {
      "displayName": "Dhindale Shital Sitaram",
      "userId": "12253268378086785584"
     },
     "user_tz": -330
    },
    "id": "3ekdZgk_LM3J",
    "outputId": "6227a49e-4831-4466-d22a-b12840ed79df"
   },
   "outputs": [],
   "source": [
    "df"
   ]
  },
  {
   "cell_type": "code",
   "execution_count": null,
   "metadata": {
    "executionInfo": {
     "elapsed": 615,
     "status": "ok",
     "timestamp": 1667893136231,
     "user": {
      "displayName": "Dhindale Shital Sitaram",
      "userId": "12253268378086785584"
     },
     "user_tz": -330
    },
    "id": "q5rzDIcNLPUu"
   },
   "outputs": [],
   "source": [
    "DF = df.copy()\n"
   ]
  },
  {
   "cell_type": "markdown",
   "metadata": {
    "id": "gfCm4feXLaUv"
   },
   "source": [
    "## Copied the data from df to DF so that any changes done to coppied data does not reflect to original data\n",
    "\n",
    "\n"
   ]
  },
  {
   "cell_type": "code",
   "execution_count": null,
   "metadata": {
    "colab": {
     "base_uri": "https://localhost:8080/",
     "height": 455
    },
    "executionInfo": {
     "elapsed": 26,
     "status": "ok",
     "timestamp": 1667893185107,
     "user": {
      "displayName": "Dhindale Shital Sitaram",
      "userId": "12253268378086785584"
     },
     "user_tz": -330
    },
    "id": "ceXuQwUxLYPQ",
    "outputId": "1f73743b-a37f-4f19-c5ea-eff1fab6e3e6"
   },
   "outputs": [],
   "source": [
    "DF"
   ]
  },
  {
   "cell_type": "code",
   "execution_count": null,
   "metadata": {
    "colab": {
     "base_uri": "https://localhost:8080/"
    },
    "executionInfo": {
     "elapsed": 6,
     "status": "ok",
     "timestamp": 1667893199933,
     "user": {
      "displayName": "Dhindale Shital Sitaram",
      "userId": "12253268378086785584"
     },
     "user_tz": -330
    },
    "id": "Yqu0fkDrLj9y",
    "outputId": "14dcdd22-6d32-46c1-a965-63deaf35ad3c"
   },
   "outputs": [],
   "source": [
    "DF.info()"
   ]
  },
  {
   "cell_type": "code",
   "execution_count": null,
   "metadata": {
    "colab": {
     "base_uri": "https://localhost:8080/"
    },
    "executionInfo": {
     "elapsed": 6,
     "status": "ok",
     "timestamp": 1667893208942,
     "user": {
      "displayName": "Dhindale Shital Sitaram",
      "userId": "12253268378086785584"
     },
     "user_tz": -330
    },
    "id": "NrX8qH8VLn1s",
    "outputId": "d47f5092-8d5a-43a9-988b-e8c5f66ed92b"
   },
   "outputs": [],
   "source": [
    "DF.ndim"
   ]
  },
  {
   "cell_type": "code",
   "execution_count": null,
   "metadata": {
    "colab": {
     "base_uri": "https://localhost:8080/"
    },
    "executionInfo": {
     "elapsed": 7,
     "status": "ok",
     "timestamp": 1667893217260,
     "user": {
      "displayName": "Dhindale Shital Sitaram",
      "userId": "12253268378086785584"
     },
     "user_tz": -330
    },
    "id": "ep5ldmRlLp1B",
    "outputId": "298044ae-9bf9-45d7-b9fe-8cc427982147"
   },
   "outputs": [],
   "source": [
    "DF.isnull().sum().sum()"
   ]
  },
  {
   "cell_type": "markdown",
   "metadata": {
    "id": "KZvgsmSgLzKt"
   },
   "source": [
    "## Visualization of Data Checking the line plot,Histogram and Density Plots,create a density plot,\n",
    "## Box and Whisker Plots by Interval,Lag Plot, Autocorrelation Plot"
   ]
  },
  {
   "cell_type": "code",
   "execution_count": null,
   "metadata": {
    "colab": {
     "base_uri": "https://localhost:8080/",
     "height": 269
    },
    "executionInfo": {
     "elapsed": 935,
     "status": "ok",
     "timestamp": 1667893262831,
     "user": {
      "displayName": "Dhindale Shital Sitaram",
      "userId": "12253268378086785584"
     },
     "user_tz": -330
    },
    "id": "PblkuS7iLvtd",
    "outputId": "157e2f5e-87d3-41d8-bffa-7662e2173121"
   },
   "outputs": [],
   "source": [
    "DF.plot()\n",
    "plt.show()"
   ]
  },
  {
   "cell_type": "markdown",
   "metadata": {
    "id": "Wr5Q0dV3L7vQ"
   },
   "source": [
    "## here we can say that the trend is upward and the sessionality is multiplicative\n"
   ]
  },
  {
   "cell_type": "code",
   "execution_count": null,
   "metadata": {
    "colab": {
     "base_uri": "https://localhost:8080/",
     "height": 281
    },
    "executionInfo": {
     "elapsed": 14,
     "status": "ok",
     "timestamp": 1667893298746,
     "user": {
      "displayName": "Dhindale Shital Sitaram",
      "userId": "12253268378086785584"
     },
     "user_tz": -330
    },
    "id": "aG8ZpuJmLruY",
    "outputId": "92650854-6fe5-4266-e29b-493c6a7983c5"
   },
   "outputs": [],
   "source": [
    "##Histogram and Density Plots\n",
    "\n",
    "DF.hist()\n",
    "plt.show()"
   ]
  },
  {
   "cell_type": "code",
   "execution_count": null,
   "metadata": {
    "colab": {
     "base_uri": "https://localhost:8080/",
     "height": 267
    },
    "executionInfo": {
     "elapsed": 28,
     "status": "ok",
     "timestamp": 1667893309923,
     "user": {
      "displayName": "Dhindale Shital Sitaram",
      "userId": "12253268378086785584"
     },
     "user_tz": -330
    },
    "id": "bpE2iqH9L_-R",
    "outputId": "c2e38511-5ddb-4c0a-f287-c58b431428d0"
   },
   "outputs": [],
   "source": [
    "# create a density plot\n",
    "DF.plot(kind='kde')\n",
    "plt.show()"
   ]
  },
  {
   "cell_type": "code",
   "execution_count": null,
   "metadata": {
    "colab": {
     "base_uri": "https://localhost:8080/",
     "height": 279
    },
    "executionInfo": {
     "elapsed": 10,
     "status": "ok",
     "timestamp": 1667893319074,
     "user": {
      "displayName": "Dhindale Shital Sitaram",
      "userId": "12253268378086785584"
     },
     "user_tz": -330
    },
    "id": "EhkArG63MCgi",
    "outputId": "0e23ba03-8734-42db-9455-3ed7c43637f7"
   },
   "outputs": [],
   "source": [
    "##Lag_plot\n",
    "lag_plot(DF)\n",
    "plt.show()"
   ]
  },
  {
   "cell_type": "code",
   "execution_count": null,
   "metadata": {
    "colab": {
     "base_uri": "https://localhost:8080/",
     "height": 281
    },
    "executionInfo": {
     "elapsed": 14,
     "status": "ok",
     "timestamp": 1667893327144,
     "user": {
      "displayName": "Dhindale Shital Sitaram",
      "userId": "12253268378086785584"
     },
     "user_tz": -330
    },
    "id": "5IlgmtcTMEyS",
    "outputId": "bc585dd1-45e8-46ca-cf68-4f72112628c4"
   },
   "outputs": [],
   "source": [
    "#Autocorrelation Plot\n",
    "\n",
    "plot_acf(DF,lags=30)\n",
    "plt.show()"
   ]
  },
  {
   "cell_type": "markdown",
   "metadata": {
    "id": "3EFxuQ7yML3J"
   },
   "source": [
    "## UpSampling"
   ]
  },
  {
   "cell_type": "code",
   "execution_count": null,
   "metadata": {
    "colab": {
     "base_uri": "https://localhost:8080/"
    },
    "executionInfo": {
     "elapsed": 7,
     "status": "ok",
     "timestamp": 1667893364819,
     "user": {
      "displayName": "Dhindale Shital Sitaram",
      "userId": "12253268378086785584"
     },
     "user_tz": -330
    },
    "id": "7RVQcsKEMG-L",
    "outputId": "abb28067-8d1f-48b9-c37d-4160d10ffe07"
   },
   "outputs": [],
   "source": [
    "upsampled = DF.resample('M').mean()\n",
    "print(upsampled.head(32))"
   ]
  },
  {
   "cell_type": "code",
   "execution_count": null,
   "metadata": {
    "colab": {
     "base_uri": "https://localhost:8080/",
     "height": 574
    },
    "executionInfo": {
     "elapsed": 29,
     "status": "ok",
     "timestamp": 1667893379264,
     "user": {
      "displayName": "Dhindale Shital Sitaram",
      "userId": "12253268378086785584"
     },
     "user_tz": -330
    },
    "id": "k9wvhgwWMP_a",
    "outputId": "03edfc76-4472-4f0e-834a-a62b957a2748"
   },
   "outputs": [],
   "source": [
    "interpolated = upsampled.interpolate(method='linear') ## interplation was done for nan values which we get after doing upsampling by month\n",
    "print(interpolated.head(15))\n",
    "interpolated.plot()\n",
    "plt.show()"
   ]
  },
  {
   "cell_type": "code",
   "execution_count": null,
   "metadata": {
    "colab": {
     "base_uri": "https://localhost:8080/",
     "height": 455
    },
    "executionInfo": {
     "elapsed": 1591,
     "status": "ok",
     "timestamp": 1667893393793,
     "user": {
      "displayName": "Dhindale Shital Sitaram",
      "userId": "12253268378086785584"
     },
     "user_tz": -330
    },
    "id": "gE7P-U76MTUB",
    "outputId": "4a7baa04-b4d6-4177-8302-80c89ae90a29"
   },
   "outputs": [],
   "source": [
    "interpolated"
   ]
  },
  {
   "cell_type": "markdown",
   "metadata": {
    "id": "kqZOWstqMY5T"
   },
   "source": [
    "## Tranformations"
   ]
  },
  {
   "cell_type": "code",
   "execution_count": null,
   "metadata": {
    "colab": {
     "base_uri": "https://localhost:8080/",
     "height": 164
    },
    "executionInfo": {
     "elapsed": 15,
     "status": "ok",
     "timestamp": 1667893413854,
     "user": {
      "displayName": "Dhindale Shital Sitaram",
      "userId": "12253268378086785584"
     },
     "user_tz": -330
    },
    "id": "bIrMQ9fqMWoe",
    "outputId": "ddeeafda-790f-4325-f7a2-f7a5458d6ecd"
   },
   "outputs": [],
   "source": [
    "# line plot\n",
    "plt.subplot(211)\n",
    "plt.plot(DF)"
   ]
  },
  {
   "cell_type": "code",
   "execution_count": null,
   "metadata": {
    "colab": {
     "base_uri": "https://localhost:8080/",
     "height": 147
    },
    "executionInfo": {
     "elapsed": 1896,
     "status": "ok",
     "timestamp": 1667893504514,
     "user": {
      "displayName": "Dhindale Shital Sitaram",
      "userId": "12253268378086785584"
     },
     "user_tz": -330
    },
    "id": "pIFYTti9McBd",
    "outputId": "6662c809-79f8-4f86-84f7-7f7a07c06f05"
   },
   "outputs": [],
   "source": [
    "# histogram\n",
    "plt.subplot(212)\n",
    "plt.hist(DF)\n",
    "plt.show()"
   ]
  },
  {
   "cell_type": "markdown",
   "metadata": {
    "id": "zJgtgVXJM9Cb"
   },
   "source": [
    "## Square Root Transform"
   ]
  },
  {
   "cell_type": "code",
   "execution_count": null,
   "metadata": {
    "executionInfo": {
     "elapsed": 67,
     "status": "ok",
     "timestamp": 1667893568333,
     "user": {
      "displayName": "Dhindale Shital Sitaram",
      "userId": "12253268378086785584"
     },
     "user_tz": -330
    },
    "id": "hOzuWhljMeRq"
   },
   "outputs": [],
   "source": [
    "dataframe = DataFrame(DF.values)\n",
    "dataframe.columns = ['Passengers']\n",
    "dataframe['Passengers'] = sqrt(dataframe['Passengers'])"
   ]
  },
  {
   "cell_type": "code",
   "execution_count": null,
   "metadata": {
    "colab": {
     "base_uri": "https://localhost:8080/",
     "height": 265
    },
    "executionInfo": {
     "elapsed": 73,
     "status": "ok",
     "timestamp": 1667893576935,
     "user": {
      "displayName": "Dhindale Shital Sitaram",
      "userId": "12253268378086785584"
     },
     "user_tz": -330
    },
    "id": "SYIadNNTNBC4",
    "outputId": "e566f420-fb3a-46cf-9a91-c812c0f27ec9"
   },
   "outputs": [],
   "source": [
    "# line plot\n",
    "plt.subplot(211)\n",
    "plt.plot(DF['Passengers'])\n",
    "# histogram\n",
    "plt.subplot(212)\n",
    "plt.hist(DF['Passengers'])\n",
    "plt.show()"
   ]
  },
  {
   "cell_type": "markdown",
   "metadata": {
    "id": "KP_K2huSNHiQ"
   },
   "source": [
    "## Log Transform"
   ]
  },
  {
   "cell_type": "code",
   "execution_count": null,
   "metadata": {
    "executionInfo": {
     "elapsed": 7,
     "status": "ok",
     "timestamp": 1667893660872,
     "user": {
      "displayName": "Dhindale Shital Sitaram",
      "userId": "12253268378086785584"
     },
     "user_tz": -330
    },
    "id": "r262N02XNDnF"
   },
   "outputs": [],
   "source": [
    "## importing the log library\n",
    "from numpy import log\n",
    "\n"
   ]
  },
  {
   "cell_type": "code",
   "execution_count": null,
   "metadata": {
    "colab": {
     "base_uri": "https://localhost:8080/",
     "height": 265
    },
    "executionInfo": {
     "elapsed": 15,
     "status": "ok",
     "timestamp": 1667893676062,
     "user": {
      "displayName": "Dhindale Shital Sitaram",
      "userId": "12253268378086785584"
     },
     "user_tz": -330
    },
    "id": "0bUeRgYwNYi5",
    "outputId": "62fbf420-979c-43a9-e57e-c370ec5806e0"
   },
   "outputs": [],
   "source": [
    "dataframe = DataFrame(DF.values)\n",
    "dataframe.columns = ['Passengers']\n",
    "dataframe['Passengers'] = log(dataframe['Passengers'])\n",
    "\n",
    "# line plot\n",
    "plt.subplot(211)\n",
    "plt.plot(dataframe['Passengers'])\n",
    "# histogram\n",
    "plt.subplot(212)\n",
    "plt.hist(dataframe['Passengers'])\n",
    "plt.show()\n"
   ]
  },
  {
   "cell_type": "code",
   "execution_count": null,
   "metadata": {
    "executionInfo": {
     "elapsed": 5,
     "status": "ok",
     "timestamp": 1667893690083,
     "user": {
      "displayName": "Dhindale Shital Sitaram",
      "userId": "12253268378086785584"
     },
     "user_tz": -330
    },
    "id": "xA5565QgNb_n"
   },
   "outputs": [],
   "source": [
    "Train = interpolated.head(81)\n",
    "Test = interpolated.tail(14)"
   ]
  },
  {
   "cell_type": "markdown",
   "metadata": {
    "id": "Qn0Nc6-ANhDU"
   },
   "source": [
    "## Moving Average"
   ]
  },
  {
   "cell_type": "code",
   "execution_count": null,
   "metadata": {
    "colab": {
     "base_uri": "https://localhost:8080/",
     "height": 267
    },
    "executionInfo": {
     "elapsed": 1696,
     "status": "ok",
     "timestamp": 1667893711214,
     "user": {
      "displayName": "Dhindale Shital Sitaram",
      "userId": "12253268378086785584"
     },
     "user_tz": -330
    },
    "id": "iupqyrQuNfPH",
    "outputId": "807b9ab7-0ca3-47c6-ed00-691f981eb995"
   },
   "outputs": [],
   "source": [
    "plt.figure(figsize=(12,4))\n",
    "interpolated.Passengers.plot(label=\"org\")\n",
    "for i in range(2,24,6):\n",
    "    interpolated[\"Passengers\"].rolling(i).mean().plot(label=str(i))\n",
    "plt.legend(loc='best')"
   ]
  },
  {
   "cell_type": "markdown",
   "metadata": {
    "id": "Q4Ld5kIVNpAa"
   },
   "source": [
    "## Time series decomposition plot"
   ]
  },
  {
   "cell_type": "code",
   "execution_count": null,
   "metadata": {
    "colab": {
     "base_uri": "https://localhost:8080/",
     "height": 297
    },
    "executionInfo": {
     "elapsed": 891,
     "status": "ok",
     "timestamp": 1667893744152,
     "user": {
      "displayName": "Dhindale Shital Sitaram",
      "userId": "12253268378086785584"
     },
     "user_tz": -330
    },
    "id": "wqdY0lhaNkUa",
    "outputId": "7f9ad956-731b-4e85-81b3-67611be38dba"
   },
   "outputs": [],
   "source": [
    "decompose_ts_add = seasonal_decompose(interpolated.Passengers,freq=12)  \n",
    "decompose_ts_add.plot()\n",
    "plt.show()\n"
   ]
  },
  {
   "cell_type": "markdown",
   "metadata": {
    "id": "NPHHtR-NNvr4"
   },
   "source": [
    "## ACF plots and PACF plots"
   ]
  },
  {
   "cell_type": "code",
   "execution_count": null,
   "metadata": {
    "colab": {
     "base_uri": "https://localhost:8080/",
     "height": 545
    },
    "executionInfo": {
     "elapsed": 1692,
     "status": "ok",
     "timestamp": 1667893770023,
     "user": {
      "displayName": "Dhindale Shital Sitaram",
      "userId": "12253268378086785584"
     },
     "user_tz": -330
    },
    "id": "OEzPrrUaNscX",
    "outputId": "3004e1cb-887f-4e2a-abad-45eebacb9709"
   },
   "outputs": [],
   "source": [
    "import statsmodels.graphics.tsaplots as tsa_plots\n",
    "\n",
    "tsa_plots.plot_acf(interpolated.Passengers,lags=14)\n",
    "tsa_plots.plot_pacf(interpolated.Passengers,lags=14)\n",
    "plt.show()"
   ]
  },
  {
   "cell_type": "markdown",
   "metadata": {
    "id": "ZUbTCjmoN1tL"
   },
   "source": [
    "## Evaluation Metric MAPE"
   ]
  },
  {
   "cell_type": "code",
   "execution_count": null,
   "metadata": {
    "executionInfo": {
     "elapsed": 14,
     "status": "ok",
     "timestamp": 1667893805897,
     "user": {
      "displayName": "Dhindale Shital Sitaram",
      "userId": "12253268378086785584"
     },
     "user_tz": -330
    },
    "id": "QRK36rulNyv2"
   },
   "outputs": [],
   "source": [
    "def MAPE(pred,org):\n",
    "    temp = np.abs((pred-org)/org)*100\n",
    "    return np.mean(temp)"
   ]
  },
  {
   "cell_type": "markdown",
   "metadata": {
    "id": "xG7vfXFHN_FD"
   },
   "source": [
    "## Simple Exponential Method"
   ]
  },
  {
   "cell_type": "code",
   "execution_count": null,
   "metadata": {
    "colab": {
     "base_uri": "https://localhost:8080/"
    },
    "executionInfo": {
     "elapsed": 5,
     "status": "ok",
     "timestamp": 1667893834504,
     "user": {
      "displayName": "Dhindale Shital Sitaram",
      "userId": "12253268378086785584"
     },
     "user_tz": -330
    },
    "id": "dTyjgmMgN7lZ",
    "outputId": "272eb6c2-791b-4b56-f186-b8c6cdcfddea"
   },
   "outputs": [],
   "source": [
    "ses_model = SimpleExpSmoothing(Train[\"Passengers\"]).fit(smoothing_level=0.2)\n",
    "pred_ses = ses_model.predict(start = Test.index[0],end = Test.index[-1])\n",
    "MAPE(pred_ses,Test.Passengers)"
   ]
  },
  {
   "cell_type": "markdown",
   "metadata": {
    "id": "sNqbp7tFOJbl"
   },
   "source": [
    "## Holt method"
   ]
  },
  {
   "cell_type": "code",
   "execution_count": null,
   "metadata": {
    "colab": {
     "base_uri": "https://localhost:8080/"
    },
    "executionInfo": {
     "elapsed": 10,
     "status": "ok",
     "timestamp": 1667893875270,
     "user": {
      "displayName": "Dhindale Shital Sitaram",
      "userId": "12253268378086785584"
     },
     "user_tz": -330
    },
    "id": "6jDWQo4JOC1a",
    "outputId": "23cc9b5b-4e82-49ea-d439-8f555ac9240a"
   },
   "outputs": [],
   "source": [
    "# Holt method \n",
    "hw_model = Holt(Train[\"Passengers\"]).fit(smoothing_level=0.1, smoothing_slope=0.2)\n",
    "pred_hw = hw_model.predict(start = Test.index[0],end = Test.index[-1])\n",
    "MAPE(pred_hw,Test.Passengers)"
   ]
  },
  {
   "cell_type": "markdown",
   "metadata": {
    "id": "yQRDLfXCOQim"
   },
   "source": [
    "## Holts winter exponential smoothing with additive seasonality and additive trend"
   ]
  },
  {
   "cell_type": "code",
   "execution_count": null,
   "metadata": {
    "colab": {
     "base_uri": "https://localhost:8080/"
    },
    "executionInfo": {
     "elapsed": 451,
     "status": "ok",
     "timestamp": 1667893902868,
     "user": {
      "displayName": "Dhindale Shital Sitaram",
      "userId": "12253268378086785584"
     },
     "user_tz": -330
    },
    "id": "Y_p5vKItOMs4",
    "outputId": "8e19d1cd-9fd5-4501-f2b3-af15ec7344a9"
   },
   "outputs": [],
   "source": [
    "hwe_model_add_add = ExponentialSmoothing(Train[\"Passengers\"],seasonal=\"add\",trend=\"add\",seasonal_periods=12).fit(smoothing_level=0.1, smoothing_slope=0.2) #add the trend to the model\n",
    "pred_hwe_add_add = hwe_model_add_add.predict(start = Test.index[0],end = Test.index[-1])\n",
    "MAPE(pred_hwe_add_add,Test.Passengers)"
   ]
  },
  {
   "cell_type": "markdown",
   "metadata": {
    "id": "PMRft6-kOWkT"
   },
   "source": [
    "## Holts winter exponential smoothing with multiplicative seasonality and additive trend"
   ]
  },
  {
   "cell_type": "code",
   "execution_count": null,
   "metadata": {
    "colab": {
     "base_uri": "https://localhost:8080/"
    },
    "executionInfo": {
     "elapsed": 7,
     "status": "ok",
     "timestamp": 1667893930455,
     "user": {
      "displayName": "Dhindale Shital Sitaram",
      "userId": "12253268378086785584"
     },
     "user_tz": -330
    },
    "id": "I5JzAh8DOTlV",
    "outputId": "baa0cbfa-1cb5-4768-8f70-eb54633d8375"
   },
   "outputs": [],
   "source": [
    "hwe_model_mul_add = ExponentialSmoothing(Train[\"Passengers\"],seasonal=\"mul\",trend=\"add\",seasonal_periods=12).fit(smoothing_level=0.1, smoothing_slope=0.2) \n",
    "pred_hwe_mul_add = hwe_model_mul_add.predict(start = Test.index[0],end = Test.index[-1])\n",
    "MAPE(pred_hwe_mul_add,Test.Passengers)"
   ]
  },
  {
   "cell_type": "code",
   "execution_count": null,
   "metadata": {
    "colab": {
     "base_uri": "https://localhost:8080/"
    },
    "executionInfo": {
     "elapsed": 685,
     "status": "ok",
     "timestamp": 1667893952440,
     "user": {
      "displayName": "Dhindale Shital Sitaram",
      "userId": "12253268378086785584"
     },
     "user_tz": -330
    },
    "id": "bUXU7Bl_OaO1",
    "outputId": "22f07d45-6974-4d44-acc5-b4e420b4f8a8"
   },
   "outputs": [],
   "source": [
    "rmse_hwe_mul_add = sqrt(mean_squared_error(pred_hwe_mul_add,Test.Passengers))\n",
    "rmse_hwe_mul_add"
   ]
  },
  {
   "cell_type": "markdown",
   "metadata": {
    "id": "gNJIfheOOkCW"
   },
   "source": [
    "## Final Model by combining train and test"
   ]
  },
  {
   "cell_type": "code",
   "execution_count": null,
   "metadata": {
    "executionInfo": {
     "elapsed": 492,
     "status": "ok",
     "timestamp": 1667893988898,
     "user": {
      "displayName": "Dhindale Shital Sitaram",
      "userId": "12253268378086785584"
     },
     "user_tz": -330
    },
    "id": "yLmrAdhNOffY"
   },
   "outputs": [],
   "source": [
    "hwe_model_add_add = ExponentialSmoothing(interpolated[\"Passengers\"],seasonal=\"add\",trend=\"add\",seasonal_periods=10).fit()\n"
   ]
  },
  {
   "cell_type": "code",
   "execution_count": null,
   "metadata": {
    "colab": {
     "base_uri": "https://localhost:8080/"
    },
    "executionInfo": {
     "elapsed": 7,
     "status": "ok",
     "timestamp": 1667893997630,
     "user": {
      "displayName": "Dhindale Shital Sitaram",
      "userId": "12253268378086785584"
     },
     "user_tz": -330
    },
    "id": "0WKjlUd-OoW1",
    "outputId": "4c605f6f-4d4c-401a-c6e0-1e134b683c72"
   },
   "outputs": [],
   "source": [
    "#Forecasting for next 10 time periods\n",
    "hwe_model_add_add.forecast(10)"
   ]
  },
  {
   "cell_type": "code",
   "execution_count": null,
   "metadata": {
    "colab": {
     "base_uri": "https://localhost:8080/",
     "height": 455
    },
    "executionInfo": {
     "elapsed": 11,
     "status": "ok",
     "timestamp": 1667894008809,
     "user": {
      "displayName": "Dhindale Shital Sitaram",
      "userId": "12253268378086785584"
     },
     "user_tz": -330
    },
    "id": "aPsd1dRZOqek",
    "outputId": "70900fec-60ca-40be-90d7-d069ceb209e6"
   },
   "outputs": [],
   "source": [
    "interpolated"
   ]
  },
  {
   "cell_type": "code",
   "execution_count": null,
   "metadata": {
    "executionInfo": {
     "elapsed": 22,
     "status": "ok",
     "timestamp": 1667894018055,
     "user": {
      "displayName": "Dhindale Shital Sitaram",
      "userId": "12253268378086785584"
     },
     "user_tz": -330
    },
    "id": "vTJMfi06Os_G"
   },
   "outputs": [],
   "source": [
    "interpolated.reset_index(inplace=True)"
   ]
  },
  {
   "cell_type": "code",
   "execution_count": null,
   "metadata": {
    "executionInfo": {
     "elapsed": 4,
     "status": "ok",
     "timestamp": 1667894024970,
     "user": {
      "displayName": "Dhindale Shital Sitaram",
      "userId": "12253268378086785584"
     },
     "user_tz": -330
    },
    "id": "AlMlcpOyOvRJ"
   },
   "outputs": [],
   "source": [
    "interpolated['t'] = 1"
   ]
  },
  {
   "cell_type": "code",
   "execution_count": null,
   "metadata": {
    "colab": {
     "base_uri": "https://localhost:8080/",
     "height": 424
    },
    "executionInfo": {
     "elapsed": 15,
     "status": "ok",
     "timestamp": 1667894032366,
     "user": {
      "displayName": "Dhindale Shital Sitaram",
      "userId": "12253268378086785584"
     },
     "user_tz": -330
    },
    "id": "qfnCZ5hvOxMp",
    "outputId": "7ba779d8-25e5-44ae-9e90-f45f6f6dfe72"
   },
   "outputs": [],
   "source": [
    "interpolated"
   ]
  },
  {
   "cell_type": "code",
   "execution_count": null,
   "metadata": {
    "executionInfo": {
     "elapsed": 6,
     "status": "ok",
     "timestamp": 1667894046981,
     "user": {
      "displayName": "Dhindale Shital Sitaram",
      "userId": "12253268378086785584"
     },
     "user_tz": -330
    },
    "id": "Gy0XZ8k_OzFg"
   },
   "outputs": [],
   "source": [
    "for i,row in interpolated.iterrows():\n",
    "  interpolated['t'].iloc[i] = i+1"
   ]
  },
  {
   "cell_type": "code",
   "execution_count": null,
   "metadata": {
    "colab": {
     "base_uri": "https://localhost:8080/",
     "height": 424
    },
    "executionInfo": {
     "elapsed": 18,
     "status": "ok",
     "timestamp": 1667894065979,
     "user": {
      "displayName": "Dhindale Shital Sitaram",
      "userId": "12253268378086785584"
     },
     "user_tz": -330
    },
    "id": "9802I9wtO2lN",
    "outputId": "c2fa2972-cad6-499c-db8e-c4391e513083"
   },
   "outputs": [],
   "source": [
    "interpolated"
   ]
  },
  {
   "cell_type": "code",
   "execution_count": null,
   "metadata": {
    "executionInfo": {
     "elapsed": 8,
     "status": "ok",
     "timestamp": 1667894074398,
     "user": {
      "displayName": "Dhindale Shital Sitaram",
      "userId": "12253268378086785584"
     },
     "user_tz": -330
    },
    "id": "jeRPXvRqO7LV"
   },
   "outputs": [],
   "source": [
    "interpolated['t_sq'] = (interpolated['t'])**2\n",
    "## inserted t_sq column with values"
   ]
  },
  {
   "cell_type": "code",
   "execution_count": null,
   "metadata": {
    "colab": {
     "base_uri": "https://localhost:8080/",
     "height": 424
    },
    "executionInfo": {
     "elapsed": 9,
     "status": "ok",
     "timestamp": 1667894081405,
     "user": {
      "displayName": "Dhindale Shital Sitaram",
      "userId": "12253268378086785584"
     },
     "user_tz": -330
    },
    "id": "lbJD7zo6O9WK",
    "outputId": "3e4c2547-0f9b-44c3-91bb-73661570edde"
   },
   "outputs": [],
   "source": [
    "interpolated"
   ]
  },
  {
   "cell_type": "code",
   "execution_count": null,
   "metadata": {
    "executionInfo": {
     "elapsed": 3,
     "status": "ok",
     "timestamp": 1667894094941,
     "user": {
      "displayName": "Dhindale Shital Sitaram",
      "userId": "12253268378086785584"
     },
     "user_tz": -330
    },
    "id": "nzfEf9QPO_LV"
   },
   "outputs": [],
   "source": [
    "interpolated[\"month\"] = interpolated.Month.dt.strftime(\"%b\") # month extraction\n",
    "interpolated[\"year\"] = interpolated.Month.dt.strftime(\"%Y\") # month extraction\n"
   ]
  },
  {
   "cell_type": "code",
   "execution_count": null,
   "metadata": {
    "colab": {
     "base_uri": "https://localhost:8080/",
     "height": 424
    },
    "executionInfo": {
     "elapsed": 98,
     "status": "ok",
     "timestamp": 1667894110381,
     "user": {
      "displayName": "Dhindale Shital Sitaram",
      "userId": "12253268378086785584"
     },
     "user_tz": -330
    },
    "id": "zGcEO5p8PCb7",
    "outputId": "6f4a954c-94b7-4d7c-f305-2a65424bddc4"
   },
   "outputs": [],
   "source": [
    "interpolated"
   ]
  },
  {
   "cell_type": "code",
   "execution_count": null,
   "metadata": {
    "colab": {
     "base_uri": "https://localhost:8080/",
     "height": 424
    },
    "executionInfo": {
     "elapsed": 21,
     "status": "ok",
     "timestamp": 1667894119897,
     "user": {
      "displayName": "Dhindale Shital Sitaram",
      "userId": "12253268378086785584"
     },
     "user_tz": -330
    },
    "id": "U3WiS98jPF2s",
    "outputId": "24302d58-9136-4ac1-c9dd-4e4215faacb1"
   },
   "outputs": [],
   "source": [
    "months = pd.get_dummies(interpolated['month']) ## converting the dummy variables for month column\n",
    "months\n"
   ]
  },
  {
   "cell_type": "code",
   "execution_count": null,
   "metadata": {
    "executionInfo": {
     "elapsed": 8,
     "status": "ok",
     "timestamp": 1667894132799,
     "user": {
      "displayName": "Dhindale Shital Sitaram",
      "userId": "12253268378086785584"
     },
     "user_tz": -330
    },
    "id": "qKQEQQR-PIi-"
   },
   "outputs": [],
   "source": [
    "months = months[['Jan','Feb','Mar','Apr','May','Jun','Jul','Aug','Sep','Oct','Nov','Dec']]\n",
    "## storing the months as serial wise again in months variable"
   ]
  },
  {
   "cell_type": "code",
   "execution_count": null,
   "metadata": {
    "executionInfo": {
     "elapsed": 8,
     "status": "ok",
     "timestamp": 1667894142807,
     "user": {
      "displayName": "Dhindale Shital Sitaram",
      "userId": "12253268378086785584"
     },
     "user_tz": -330
    },
    "id": "NZD8MoDhPLhk"
   },
   "outputs": [],
   "source": [
    "Airlines = pd.concat([interpolated,months],axis=1)"
   ]
  },
  {
   "cell_type": "code",
   "execution_count": null,
   "metadata": {
    "colab": {
     "base_uri": "https://localhost:8080/",
     "height": 357
    },
    "executionInfo": {
     "elapsed": 485,
     "status": "ok",
     "timestamp": 1667894149598,
     "user": {
      "displayName": "Dhindale Shital Sitaram",
      "userId": "12253268378086785584"
     },
     "user_tz": -330
    },
    "id": "dxHepyi6PN5n",
    "outputId": "2c60565d-fa14-44fe-d989-f05923fae36d"
   },
   "outputs": [],
   "source": [
    "Airlines.head()\n"
   ]
  },
  {
   "cell_type": "code",
   "execution_count": null,
   "metadata": {
    "colab": {
     "base_uri": "https://localhost:8080/",
     "height": 661
    },
    "executionInfo": {
     "elapsed": 17,
     "status": "ok",
     "timestamp": 1667894161476,
     "user": {
      "displayName": "Dhindale Shital Sitaram",
      "userId": "12253268378086785584"
     },
     "user_tz": -330
    },
    "id": "46g1YS8dPP0C",
    "outputId": "c96fc444-39fa-447d-e4ef-0ba1f48e680b"
   },
   "outputs": [],
   "source": [
    "Airlines['log_passengers'] = np.log(Airlines['Passengers'])\n",
    "Airlines"
   ]
  },
  {
   "cell_type": "code",
   "execution_count": null,
   "metadata": {
    "colab": {
     "base_uri": "https://localhost:8080/",
     "height": 491
    },
    "executionInfo": {
     "elapsed": 55,
     "status": "ok",
     "timestamp": 1667894176945,
     "user": {
      "displayName": "Dhindale Shital Sitaram",
      "userId": "12253268378086785584"
     },
     "user_tz": -330
    },
    "id": "s8Wzdc6wPSks",
    "outputId": "c9255d47-29bb-4cd8-cd6f-5ca67dcf32cf"
   },
   "outputs": [],
   "source": [
    "plt.figure(figsize=(12,8))\n",
    "heatmap_y_month = pd.pivot_table(data=Airlines,values=\"Passengers\",index=\"year\",columns=\"month\",aggfunc=\"mean\",fill_value=0)\n",
    "sns.heatmap(heatmap_y_month,annot=True,fmt=\"g\")"
   ]
  },
  {
   "cell_type": "code",
   "execution_count": null,
   "metadata": {
    "colab": {
     "base_uri": "https://localhost:8080/",
     "height": 405
    },
    "executionInfo": {
     "elapsed": 12,
     "status": "ok",
     "timestamp": 1667894187345,
     "user": {
      "displayName": "Dhindale Shital Sitaram",
      "userId": "12253268378086785584"
     },
     "user_tz": -330
    },
    "id": "kQ9JPqYFPVl7",
    "outputId": "03409a11-397c-4099-da53-8eeecf5af16a"
   },
   "outputs": [],
   "source": [
    "# Boxplot \n",
    "plt.figure(figsize=(8,6))\n",
    "plt.subplot(211)\n",
    "sns.boxplot(x=\"month\",y=\"Passengers\",data= Airlines)\n",
    "plt.subplot(212)\n",
    "sns.boxplot(x=\"year\",y=\"Passengers\",data=Airlines)"
   ]
  },
  {
   "cell_type": "code",
   "execution_count": null,
   "metadata": {
    "colab": {
     "base_uri": "https://localhost:8080/",
     "height": 215
    },
    "executionInfo": {
     "elapsed": 617,
     "status": "ok",
     "timestamp": 1667894197519,
     "user": {
      "displayName": "Dhindale Shital Sitaram",
      "userId": "12253268378086785584"
     },
     "user_tz": -330
    },
    "id": "Wl8fiTdXPY0z",
    "outputId": "bd93ea87-fa00-4ca5-fc14-dd8773a4b948"
   },
   "outputs": [],
   "source": [
    "plt.figure(figsize=(12,3))\n",
    "sns.lineplot(x=\"year\",y=\"Passengers\",data=Airlines)"
   ]
  },
  {
   "cell_type": "markdown",
   "metadata": {
    "id": "x_QlTejRPddA"
   },
   "source": [
    "## Splitting data"
   ]
  },
  {
   "cell_type": "code",
   "execution_count": null,
   "metadata": {
    "executionInfo": {
     "elapsed": 13,
     "status": "ok",
     "timestamp": 1667894220774,
     "user": {
      "displayName": "Dhindale Shital Sitaram",
      "userId": "12253268378086785584"
     },
     "user_tz": -330
    },
    "id": "q3wDQDxvPbQy"
   },
   "outputs": [],
   "source": [
    "Train = Airlines.head(81) # training data\n",
    "Test = Airlines.tail(14) # test Data"
   ]
  },
  {
   "cell_type": "code",
   "execution_count": null,
   "metadata": {
    "colab": {
     "base_uri": "https://localhost:8080/"
    },
    "executionInfo": {
     "elapsed": 45,
     "status": "ok",
     "timestamp": 1667894230106,
     "user": {
      "displayName": "Dhindale Shital Sitaram",
      "userId": "12253268378086785584"
     },
     "user_tz": -330
    },
    "id": "IcGwY7g9PhH_",
    "outputId": "30f37fe3-ff63-462b-e78b-33d0a2583b93"
   },
   "outputs": [],
   "source": [
    "#Linear Model\n",
    "import statsmodels.formula.api as smf \n",
    "\n",
    "linear_model = smf.ols('Passengers~t',data=Train).fit()\n",
    "pred_linear =  pd.Series(linear_model.predict(pd.DataFrame(Test['t'])))\n",
    "rmse_linear = np.sqrt(np.mean((np.array(Test['Passengers'])-np.array(pred_linear))**2))\n",
    "rmse_linear"
   ]
  },
  {
   "cell_type": "code",
   "execution_count": null,
   "metadata": {
    "colab": {
     "base_uri": "https://localhost:8080/"
    },
    "executionInfo": {
     "elapsed": 61,
     "status": "ok",
     "timestamp": 1667894251027,
     "user": {
      "displayName": "Dhindale Shital Sitaram",
      "userId": "12253268378086785584"
     },
     "user_tz": -330
    },
    "id": "C_1uPfGlPjIj",
    "outputId": "802dfa5d-ec52-4407-d0a3-805c4059b814"
   },
   "outputs": [],
   "source": [
    "#Exponential\n",
    "Exp = smf.ols('log_passengers~t',data=Train).fit()\n",
    "pred_Exp = pd.Series(Exp.predict(pd.DataFrame(Test['t'])))\n",
    "rmse_Exp = np.sqrt(np.mean((np.array(Test['Passengers'])-np.array(np.exp(pred_Exp)))**2))\n",
    "rmse_Exp"
   ]
  },
  {
   "cell_type": "code",
   "execution_count": null,
   "metadata": {
    "colab": {
     "base_uri": "https://localhost:8080/"
    },
    "executionInfo": {
     "elapsed": 6,
     "status": "ok",
     "timestamp": 1667894255475,
     "user": {
      "displayName": "Dhindale Shital Sitaram",
      "userId": "12253268378086785584"
     },
     "user_tz": -330
    },
    "id": "Px4CEhRVPnZ6",
    "outputId": "27ef9490-42f5-4a89-f68f-a550cc6f78f1"
   },
   "outputs": [],
   "source": [
    "#Quadratic \n",
    "\n",
    "Quad = smf.ols('Passengers~t+t_sq',data=Train).fit()\n",
    "pred_Quad = pd.Series(Quad.predict(Test[[\"t\",\"t_sq\"]]))\n",
    "rmse_Quad = np.sqrt(np.mean((np.array(Test['Passengers'])-np.array(pred_Quad))**2))\n",
    "rmse_Quad"
   ]
  },
  {
   "cell_type": "code",
   "execution_count": null,
   "metadata": {
    "colab": {
     "base_uri": "https://localhost:8080/"
    },
    "executionInfo": {
     "elapsed": 7,
     "status": "ok",
     "timestamp": 1667894267556,
     "user": {
      "displayName": "Dhindale Shital Sitaram",
      "userId": "12253268378086785584"
     },
     "user_tz": -330
    },
    "id": "hb92fFeKPpgn",
    "outputId": "f0cd2db2-5850-4841-fc21-139458bcf442"
   },
   "outputs": [],
   "source": [
    "#Additive seasonality \n",
    "\n",
    "add_sea = smf.ols('Passengers~Jan+Feb+Mar+Apr+May+Jun+Jul+Aug+Sep+Oct+Nov',data=Train).fit()\n",
    "pred_add_sea = pd.Series(add_sea.predict(Test[['Jan','Feb','Mar','Apr','May','Jun','Jul','Aug','Sep','Oct','Nov']]))\n",
    "rmse_add_sea = np.sqrt(np.mean((np.array(Test['Passengers'])-np.array(pred_add_sea))**2))\n",
    "rmse_add_sea"
   ]
  },
  {
   "cell_type": "code",
   "execution_count": null,
   "metadata": {
    "colab": {
     "base_uri": "https://localhost:8080/"
    },
    "executionInfo": {
     "elapsed": 734,
     "status": "ok",
     "timestamp": 1667894279026,
     "user": {
      "displayName": "Dhindale Shital Sitaram",
      "userId": "12253268378086785584"
     },
     "user_tz": -330
    },
    "id": "IeqbhwRLPsiR",
    "outputId": "64a8d21f-1801-43ff-887a-b9b14ee17631"
   },
   "outputs": [],
   "source": [
    "#Additive Seasonality Quadratic \n",
    "\n",
    "add_sea_Quad = smf.ols('Passengers~t+t_sq+Jan+Feb+Mar+Apr+May+Jun+Jul+Aug+Sep+Oct+Nov',data=Train).fit()\n",
    "pred_add_sea_quad = pd.Series(add_sea_Quad.predict(Test[['Jan','Feb','Mar','Apr','May','Jun','Jul','Aug','Sep','Oct','Nov','t','t_sq']]))\n",
    "rmse_add_sea_quad = np.sqrt(np.mean((np.array(Test['Passengers'])-np.array(pred_add_sea_quad))**2))\n",
    "rmse_add_sea_quad"
   ]
  },
  {
   "cell_type": "code",
   "execution_count": null,
   "metadata": {
    "colab": {
     "base_uri": "https://localhost:8080/"
    },
    "executionInfo": {
     "elapsed": 15,
     "status": "ok",
     "timestamp": 1667894285621,
     "user": {
      "displayName": "Dhindale Shital Sitaram",
      "userId": "12253268378086785584"
     },
     "user_tz": -330
    },
    "id": "C3khYT-DPvH-",
    "outputId": "9a412ac2-6319-4ef8-be62-ca0cb409f55b"
   },
   "outputs": [],
   "source": [
    "##Multiplicative Seasonality\n",
    "\n",
    "Mul_sea = smf.ols('log_passengers~Jan+Feb+Mar+Apr+May+Jun+Jul+Aug+Sep+Oct+Nov',data = Train).fit()\n",
    "pred_Mult_sea = pd.Series(Mul_sea.predict(Test))\n",
    "rmse_Mult_sea = np.sqrt(np.mean((np.array(Test['Passengers'])-np.array(np.exp(pred_Mult_sea)))**2))\n",
    "rmse_Mult_sea"
   ]
  },
  {
   "cell_type": "code",
   "execution_count": null,
   "metadata": {
    "colab": {
     "base_uri": "https://localhost:8080/"
    },
    "executionInfo": {
     "elapsed": 15,
     "status": "ok",
     "timestamp": 1667894297060,
     "user": {
      "displayName": "Dhindale Shital Sitaram",
      "userId": "12253268378086785584"
     },
     "user_tz": -330
    },
    "id": "sa4C1l1pPw9H",
    "outputId": "efb53a99-3251-45f2-f8df-ffda7ffb6252"
   },
   "outputs": [],
   "source": [
    "#Multiplicative Additive Seasonality \n",
    "\n",
    "Mul_Add_sea = smf.ols('log_passengers~t+Jan+Feb+Mar+Apr+May+Jun+Jul+Aug+Sep+Oct+Nov',data = Train).fit()\n",
    "pred_Mult_add_sea = pd.Series(Mul_Add_sea.predict(Test))\n",
    "rmse_Mult_add_sea = np.sqrt(np.mean((np.array(Test['Passengers'])-np.array(np.exp(pred_Mult_add_sea)))**2))\n",
    "rmse_Mult_add_sea"
   ]
  },
  {
   "cell_type": "code",
   "execution_count": null,
   "metadata": {
    "colab": {
     "base_uri": "https://localhost:8080/",
     "height": 269
    },
    "executionInfo": {
     "elapsed": 1127,
     "status": "ok",
     "timestamp": 1667894305465,
     "user": {
      "displayName": "Dhindale Shital Sitaram",
      "userId": "12253268378086785584"
     },
     "user_tz": -330
    },
    "id": "1Uxv8AejPzlP",
    "outputId": "9e117d2f-be7a-441f-c2ef-2db12d598e5d"
   },
   "outputs": [],
   "source": [
    "#Compareing the results \n",
    "\n",
    "data = {\"MODEL\":pd.Series([\"rmse_linear\",\"rmse_Exp\",\"rmse_Quad\",\"rmse_add_sea\",\"rmse_add_sea_quad\",\"rmse_Mult_sea\",\"rmse_Mult_add_sea\"]),\"RMSE_Values\":pd.Series([rmse_linear,rmse_Exp,rmse_Quad,rmse_add_sea,rmse_add_sea_quad,rmse_Mult_sea,rmse_Mult_add_sea])}\n",
    "table_rmse=pd.DataFrame(data)\n",
    "table_rmse.sort_values(['RMSE_Values'])"
   ]
  },
  {
   "cell_type": "markdown",
   "metadata": {
    "id": "F7LdRNB4P8Hu"
   },
   "source": [
    "## rmse_multi_add_sea will be prefered than any other in this analysis"
   ]
  },
  {
   "cell_type": "code",
   "execution_count": null,
   "metadata": {
    "id": "F5Up4DWSP1s6"
   },
   "outputs": [],
   "source": []
  }
 ],
 "metadata": {
  "colab": {
   "authorship_tag": "ABX9TyM/hMqmfXiBcSSvlP1EoDFc",
   "collapsed_sections": [],
   "provenance": []
  },
  "kernelspec": {
   "display_name": "Python 3 (ipykernel)",
   "language": "python",
   "name": "python3"
  },
  "language_info": {
   "codemirror_mode": {
    "name": "ipython",
    "version": 3
   },
   "file_extension": ".py",
   "mimetype": "text/x-python",
   "name": "python",
   "nbconvert_exporter": "python",
   "pygments_lexer": "ipython3",
   "version": "3.9.13"
  }
 },
 "nbformat": 4,
 "nbformat_minor": 1
}
